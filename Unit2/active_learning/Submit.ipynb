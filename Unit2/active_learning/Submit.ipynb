{
 "cells": [
  {
   "cell_type": "code",
   "execution_count": 1,
   "metadata": {},
   "outputs": [],
   "source": [
    "import numpy as np\n",
    "import subprocess\n",
    "import re\n",
    "from urllib.request import urlopen\n",
    "from pickle import dump, load\n",
    "from sklearn.tree import DecisionTreeRegressor\n",
    "import subprocess\n",
    "from sklearn.model_selection import KFold\n",
    "from tqdm import tqdm"
   ]
  },
  {
   "cell_type": "code",
   "execution_count": 2,
   "metadata": {},
   "outputs": [
    {
     "name": "stderr",
     "output_type": "stream",
     "text": [
      "4000000it [00:20, 199047.30it/s]\n"
     ]
    }
   ],
   "source": [
    "points = []\n",
    "with open('points_test.txt') as file_test:\n",
    "    for line in tqdm(file_test):\n",
    "        line_split = line.strip('\\n').split(' ')\n",
    "        point = [float(x.split(':')[1]) for x in line_split]\n",
    "        points.append(point)\n",
    "points = np.array(points)"
   ]
  },
  {
   "cell_type": "code",
   "execution_count": 3,
   "metadata": {},
   "outputs": [],
   "source": [
    "points = np.array(points)"
   ]
  },
  {
   "cell_type": "code",
   "execution_count": null,
   "metadata": {},
   "outputs": [],
   "source": [
    "with open('model' + str(209958_300)  + '.pkl', 'rb') as f:\n",
    "    model = load(f)"
   ]
  },
  {
   "cell_type": "code",
   "execution_count": null,
   "metadata": {},
   "outputs": [],
   "source": [
    "y_pred = model.predict(points)"
   ]
  },
  {
   "cell_type": "code",
   "execution_count": null,
   "metadata": {},
   "outputs": [],
   "source": [
    "y_pred.shape"
   ]
  },
  {
   "cell_type": "code",
   "execution_count": null,
   "metadata": {},
   "outputs": [],
   "source": [
    "points_num = np.arange(points.shape[0]) + 1"
   ]
  },
  {
   "cell_type": "code",
   "execution_count": null,
   "metadata": {},
   "outputs": [],
   "source": [
    "out_lines = ['Id,Expected\\n']\n",
    "for i in range(y_pred.shape[0]):\n",
    "    out_lines.append(str(i+1) + ',' + str(y_pred[i]) + '\\n')"
   ]
  },
  {
   "cell_type": "code",
   "execution_count": null,
   "metadata": {},
   "outputs": [],
   "source": [
    "with open('submission_209958_300.txt', 'w') as f_out:\n",
    "    f_out.writelines(out_lines)\n",
    "f_out.close()"
   ]
  },
  {
   "cell_type": "code",
   "execution_count": 6,
   "metadata": {},
   "outputs": [],
   "source": [
    "def submit(model, file_name):\n",
    "    y_pred = model.predict(points)\n",
    "    out_lines = ['Id,Expected\\n']\n",
    "    for i in range(y_pred.shape[0]):\n",
    "        out_lines.append(str(i+1) + ',' + str(y_pred[i]) + '\\n')\n",
    "    with open(file_name, 'w') as f_out:\n",
    "        f_out.writelines(out_lines)\n",
    "    f_out.close()"
   ]
  },
  {
   "cell_type": "code",
   "execution_count": null,
   "metadata": {},
   "outputs": [],
   "source": [
    "with open('model' + str(207282_800)  + '.pkl', 'rb') as f:\n",
    "    model_800 = load(f)"
   ]
  },
  {
   "cell_type": "code",
   "execution_count": null,
   "metadata": {},
   "outputs": [],
   "source": [
    "submit(model_800, 'submission_207282_800.txt')"
   ]
  },
  {
   "cell_type": "code",
   "execution_count": null,
   "metadata": {},
   "outputs": [],
   "source": [
    "FILE_POINTS_PATH = 'points.txt'\n",
    "\n",
    "def load_value(array, path=FILE_POINTS_PATH):\n",
    "    array = array.reshape(-1)\n",
    "    url = 'http://185.86.144.251/oracle?x1={:f}&x2={:f}&x3={:f}&x4={:f}&x5={:f}&x6={:f}&x7={:f}&x8={:f}&x9={:f}&x10={:f}'.format(\n",
    "        *array)\n",
    "\n",
    "    with urlopen(url,timeout=50) as response, open(path, 'a') as out_file:\n",
    "        data = response.read().decode('utf-8')\n",
    "        parsed_data = re.split(r'^Function value = |\\nAttempts left = ', data)\n",
    "        if (data != 'UNDIFINED'):\n",
    "            result, attempts = [np.float(number)\n",
    "                                for number in parsed_data if number]\n",
    "            out_file.write(','.join([str(x) for x in array]) + ',' + str(result) + ',' + str(attempts) + '\\n')\n",
    "        else:\n",
    "            out_file.write(','.join([str(x) for x in array]) + ',' + str(np.inf) + ',-1\\n')\n",
    "            print('inf value')\n",
    "            return np.inf\n",
    "    return result"
   ]
  },
  {
   "cell_type": "code",
   "execution_count": null,
   "metadata": {},
   "outputs": [],
   "source": [
    "from sklearn.metrics import mean_squared_error\n",
    "import matplotlib.pyplot as plt\n",
    "from IPython.display import clear_output\n",
    "from tqdm import tqdm\n",
    "class ActiveLearner_My:\n",
    "\n",
    "    def __init__(self, oracle_function, X_initial, y_initial, X_test, y_test, steps=20, dimension=10, learner_class=DecisionTreeRegressor, comittee_size=3):\n",
    "        self.oracle_function = oracle_function\n",
    "        self.dimension = dimension\n",
    "        # number of initial points\n",
    "        self.initial = X_initial.shape[0]\n",
    "        # final number of steps\n",
    "        self.steps = self.initial + steps\n",
    "        self.learner_class = learner_class\n",
    "        self.comittee_size = comittee_size\n",
    "        self.vars = []\n",
    "        self.vars_min = []\n",
    "        self.iter_step=5\n",
    "\n",
    "        \n",
    "        \n",
    "        X_to_add = np.zeros(\n",
    "            shape=(steps, self.dimension)).astype(np.longdouble)\n",
    "        self.X = np.vstack((X_initial,X_to_add))\n",
    "        \n",
    "        y_to_add = np.zeros(shape=(steps,)).astype(np.longdouble)\n",
    "        self.y = np.hstack((y_initial, y_to_add))\n",
    "        \n",
    "        self.labeled_indices = np.hstack((np.full(y_initial.shape[0], True), np.full(steps, False)))\n",
    "\n",
    "        self.comittee = np.array([self.learner_class(n_estimators = 150, max_depth = 4)\n",
    "                                 for _ in range(self.comittee_size)])\n",
    "        print(self.X.shape)\n",
    "        self.X_test = X_test\n",
    "        self.y_test = y_test\n",
    "        \n",
    "        # losses for train and validation\n",
    "        self.train_rmse = []\n",
    "        self.valid_rmse = []\n",
    "\n",
    "    def generate_random_points(self, number):\n",
    "        return 10 * np.random.random_sample((number, self.dimension))\n",
    "\n",
    "\n",
    "    def _train_comittee(self):\n",
    "        kf = KFold(n_splits=self.comittee_size, shuffle=True)\n",
    "        i = 0\n",
    "        X_l, y_l = self.X[self.labeled_indices], self.y[self.labeled_indices]\n",
    "        for train_index, test_index in kf.split(X_l):\n",
    "            self.comittee[i] = self.comittee[i].fit(\n",
    "                X_l[train_index], y_l[train_index])\n",
    "            i += 1\n",
    "\n",
    "    def _choose_point_to_label(self):\n",
    "        points = self.generate_random_points(1000)\n",
    "        variance = np.var([self.comittee[i].predict(points)\n",
    "                          for i in range(self.comittee_size)], axis=0)\n",
    "\n",
    "        self.vars.append(max(variance))\n",
    "        self.vars_min.append(min(variance))\n",
    "        return points[np.argmax(variance)]\n",
    "\n",
    "    def _label(self, point):\n",
    "        \n",
    "        rand_val = 0.001 * np.random.random_sample((self.iter_step, self.dimension))\n",
    "        \n",
    "        new_points = np.tile(point,(self.iter_step,1)) + rand_val\n",
    "        print(new_points.shape)\n",
    "        for i in range(self.iter_step):\n",
    "            val = self.oracle_function(new_points[i])\n",
    "            if val == np.inf:\n",
    "                continue\n",
    "            else:\n",
    "                self.X[self.iteration] = new_points[i]\n",
    "                self.y[self.iteration] = val\n",
    "                self.labeled_indices[self.iteration] = True\n",
    "                self.iteration += 1\n",
    "\n",
    "    def add_point(self):\n",
    "        self._train_comittee()\n",
    "        best_point = self._choose_point_to_label()\n",
    "        #print(best_point)\n",
    "        self._label(best_point)\n",
    "\n",
    "    def save_data(self):\n",
    "                with open('X' + str(self.iteration) + '.pkl', 'wb') as f:\n",
    "                    dump(self.X[self.labeled_indices], f)\n",
    "                with open('y' + str(self.iteration) + '.pkl', 'wb') as f:\n",
    "                    dump(self.y[self.labeled_indices], f)\n",
    "    def test(self):\n",
    "        y_pred_valid = self.final_model.predict(self.X_test)\n",
    "        y_pred_train = self.final_model.predict(self.X[self.labeled_indices])\n",
    "        \n",
    "        valid_rmse = np.sqrt(mean_squared_error(y_pred_valid, self.y_test))\n",
    "        train_rmse = np.sqrt(mean_squared_error(y_pred_train, self.y[self.labeled_indices]))\n",
    "        return train_rmse, valid_rmse\n",
    "        \n",
    "    \n",
    "    def learn(self):\n",
    "        self.iteration = self.initial\n",
    "        start = self.iteration\n",
    "        #for i in tqdm(range(start,self.steps)):\n",
    "        while self.iteration < self.steps:\n",
    "            \n",
    "            self.add_point()\n",
    "            print(self.iteration)\n",
    "\n",
    "            self.save_data()\n",
    "            self.final_model = self.learner_class(n_estimators = 150, max_depth = 4)\n",
    "            self.final_model.fit(self.X[self.labeled_indices], self.y[self.labeled_indices])\n",
    "            cur_rmse_train, cur_rmse_valid = self.test()\n",
    "            self.train_rmse.append(cur_rmse_train)\n",
    "            self.valid_rmse.append(cur_rmse_valid)\n",
    "            clear_output(True)\n",
    "\n",
    "            plt.figure(figsize=(12, 5))\n",
    "            plt.plot(self.train_rmse,  label='train')\n",
    "            plt.plot(self.valid_rmse,  label='valid')\n",
    "            plt.xlabel('Epochs', fontsize=16)\n",
    "            plt.ylabel('Loss', fontsize=16)\n",
    "            plt.legend(loc=0, fontsize=16)\n",
    "            plt.show()\n",
    "            if ((self.iteration + 1) % 100 == 0):\n",
    "                self.save_data()\n",
    "                print('train rmse={}, valid_rmse={}'.format(cur_rmse_train, cur_rmse_valid))\n",
    "            #self.iteration += 1\n",
    "\n",
    "        self.final_model = self.learner_class(n_estimators = 150, max_depth = 4)\n",
    "        self.final_model.fit(\n",
    "            self.X[self.labeled_indices], self.y[self.labeled_indices])\n",
    "        self.save_data()\n",
    "        with open('model' + str(self.iteration) + '.pkl', 'wb') as f:\n",
    "            dump(self.final_model, f)"
   ]
  },
  {
   "cell_type": "code",
   "execution_count": null,
   "metadata": {},
   "outputs": [],
   "source": [
    "with open('learner' + str(124264) + '.pkl', 'rb') as f:\n",
    "    my_learner1 = load(f)"
   ]
  },
  {
   "cell_type": "code",
   "execution_count": null,
   "metadata": {},
   "outputs": [],
   "source": [
    "submit(my_learner1.final_model, 'submission_124264.txt')"
   ]
  },
  {
   "cell_type": "code",
   "execution_count": null,
   "metadata": {},
   "outputs": [],
   "source": [
    "with open('model' + str(209958_800)  + '.pkl', 'rb') as f:\n",
    "    model_800 = load(f)"
   ]
  },
  {
   "cell_type": "code",
   "execution_count": null,
   "metadata": {},
   "outputs": [],
   "source": [
    "submit(model_800, 'submission_209958_800.txt')"
   ]
  },
  {
   "cell_type": "code",
   "execution_count": 7,
   "metadata": {},
   "outputs": [],
   "source": [
    "with open('model' + str(207282_300)  + '.pkl', 'rb') as f:\n",
    "    model_800 = load(f)"
   ]
  },
  {
   "cell_type": "code",
   "execution_count": 10,
   "metadata": {},
   "outputs": [],
   "source": [
    "submit(model_800, 'submission_207282_300.txt')"
   ]
  },
  {
   "cell_type": "code",
   "execution_count": 8,
   "metadata": {},
   "outputs": [],
   "source": [
    "del model_800"
   ]
  },
  {
   "cell_type": "code",
   "execution_count": 10,
   "metadata": {},
   "outputs": [],
   "source": [
    "with open('model' + str(211362_1200)  + '.pkl', 'rb') as f:\n",
    "    model_800 = load(f)"
   ]
  },
  {
   "cell_type": "code",
   "execution_count": 11,
   "metadata": {},
   "outputs": [],
   "source": [
    "submit(model_800, 'submission_211362_1200.txt')"
   ]
  },
  {
   "cell_type": "code",
   "execution_count": null,
   "metadata": {},
   "outputs": [],
   "source": []
  }
 ],
 "metadata": {
  "kernelspec": {
   "display_name": "Python 3",
   "language": "python",
   "name": "python3"
  },
  "language_info": {
   "codemirror_mode": {
    "name": "ipython",
    "version": 3
   },
   "file_extension": ".py",
   "mimetype": "text/x-python",
   "name": "python",
   "nbconvert_exporter": "python",
   "pygments_lexer": "ipython3",
   "version": "3.7.5"
  }
 },
 "nbformat": 4,
 "nbformat_minor": 4
}
